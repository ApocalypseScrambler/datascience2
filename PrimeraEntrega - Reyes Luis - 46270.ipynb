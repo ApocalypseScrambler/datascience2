{
 "cells": [
  {
   "cell_type": "markdown",
   "metadata": {},
   "source": [
    "<h1 style=\"font-family:Times;text-align:center;font-variant:small-caps;color:#FFFFFF;background-color:#3300CC;border-radius:8px\">Bank Customer Churn</h1>"
   ]
  },
  {
   "cell_type": "markdown",
   "metadata": {},
   "source": [
    "<h1 style=\"font-family:Times;font-variant:small-caps;color:#FFFFFF;background-color:#3300CC;border-radius:8px\">Indice</h1>"
   ]
  },
  {
   "cell_type": "markdown",
   "metadata": {},
   "source": [
    "* [1. Introducción](#1)\n",
    "    * [1.1 Presentación](#1-1)\n",
    "    * [1.2 Librerias](#1-2)\n",
    "    * [1.3 Importación Dataset](#1-3)\n",
    "    * [1.4 Columnas](#1-4)\n",
    "* [2. Exploratory Data Analysis (EDA)](#2)\n",
    "    * [2.1 Missing Data](#2-1)\n",
    "    * [2.2 Análisis de Variables](#2-2)"
   ]
  },
  {
   "cell_type": "markdown",
   "metadata": {},
   "source": [
    "<a id=\"1\"></a>\n",
    "<h1 style=\"font-family:Times;font-variant:small-caps;color:#FFFFFF;background-color:#3300CC;border-radius:8px\">Introduccion</h1>"
   ]
  },
  {
   "cell_type": "markdown",
   "metadata": {},
   "source": [
    "<a id=\"1-1\"></a>\n",
    "<h3 style=\"text-align:left;border-radius:8px;font-family:Times;font-variant:small-caps;color:#FFFFFF;background-color:#3300CC;\">Presentación</h3>\n",
    "\n",
    "<h5 style=\"text-align:left;text-decoration:underline;border-radius:8px;font-family:Times;font-variant:small-caps;color:#FFFFFF;\">Motivación:</h5>\n",
    "\n",
    "La motivación detrás de este proyecto de análisis de datos es abordar un desafío crítico en la industria bancaria: la retención de clientes. La retención de clientes es fundamental para el éxito a largo plazo de cualquier institución financiera, ya que es más costoso adquirir nuevos clientes que retener a los existentes. Al comprender los factores que llevan a la pérdida de clientes, el banco puede tomar medidas proactivas para retener a sus clientes y, en última instancia, mejorar su rentabilidad.\n",
    "\n",
    "<h5 style=\"text-align:left;text-decoration:underline;border-radius:8px;font-family:Times;font-variant:small-caps;color:#FFFFFF;\">Audiencia:</h5>\n",
    "\n",
    "La audiencia principal de este proyecto incluye la alta dirección del banco, gerentes de relaciones con clientes, analistas de datos y equipos de marketing. Además, los resultados y las recomendaciones derivadas de este análisis pueden ser de interés para otros profesionales del sector financiero que enfrentan desafíos similares de retención de clientes.\n",
    "\n",
    "<h5 style=\"text-align:left;text-decoration:underline;border-radius:8px;font-family:Times;font-variant:small-caps;color:#FFFFFF;\">Preguntas/Hipótesis:</h5>\n",
    "\n",
    "Algunas preguntas clave que guiaron este proyecto incluyen:\n",
    "\n",
    "¿Cuáles son los factores más influyentes en la pérdida de clientes en el banco?\n",
    "¿Existen patrones demográficos que se correlacionen con la retención de clientes?\n",
    "¿El comportamiento de transacciones, como la frecuencia de uso de servicios bancarios, afecta la retención de clientes?\n",
    "¿Pueden las campañas de marketing o incentivos especiales impactar en la retención de clientes?\n",
    "\n",
    "<h5 style=\"text-align:left;text-decoration:underline;border-radius:8px;font-family:Times;font-variant:small-caps;color:#FFFFFF;\">Definición de Objetivo:</h5>\n",
    "\n",
    "El objetivo principal de este proyecto es desarrollar un modelo predictivo que pueda identificar a los clientes que tienen mayor probabilidad de dejar de hacer negocios con el banco en un futuro cercano. Esto permitirá al banco tomar medidas proactivas, como ofrecer incentivos o mejorar la atención al cliente, para retener a esos clientes. Además, el proyecto tiene como objetivo proporcionar una comprensión más profunda de los factores subyacentes que contribuyen a la pérdida de clientes.\n",
    "\n",
    "<h5 style=\"text-align:left;text-decoration:underline;border-radius:8px;font-family:Times;font-variant:small-caps;color:#FFFFFF;\">Contexto Comercial:</h5>\n",
    "\n",
    "En el contexto comercial, la retención de clientes es fundamental para la rentabilidad y la sostenibilidad a largo plazo del banco. Perder clientes implica una disminución en los ingresos y puede tener un impacto significativo en la reputación de la institución. El banco busca maximizar la retención de clientes a través de una estrategia de gestión de relaciones efectiva.\n",
    "\n",
    "<h5 style=\"text-align:left;text-decoration:underline;border-radius:8px;font-family:Times;font-variant:small-caps;color:#FFFFFF;\">Problema Comercial:</h5>\n",
    "\n",
    "El problema comercial clave que aborda este proyecto es la pérdida de clientes. La institución financiera enfrenta una tasa de rotación de clientes preocupante y busca identificar las causas fundamentales de esta pérdida y, en última instancia, reducirla. La retención de clientes no solo es esencial para el crecimiento del banco, sino que también tiene un impacto directo en la satisfacción del cliente y su percepción de la marca.\n",
    "\n",
    "<h5 style=\"text-align:left;text-decoration:underline;border-radius:8px;font-family:Times;font-variant:small-caps;color:#FFFFFF;\">Contexto Analítico:</h5>\n",
    "\n",
    "El contexto analítico de este proyecto se centra en el análisis de datos, el modelado predictivo y la minería de datos. Se utilizarán técnicas avanzadas de aprendizaje automático y estadísticas para analizar el conjunto de datos de clientes y desarrollar un modelo que pueda predecir la probabilidad de que un cliente deje de ser cliente del banco en un período de tiempo determinado. Además, se llevará a cabo un análisis de características para identificar los factores clave que influyen en la retención de clientes.\n",
    "\n",
    "En resumen, este proyecto de análisis de datos tiene como objetivo proporcionar una visión profunda de los factores que influyen en la retención de clientes en el banco y desarrollar un modelo predictivo que permita tomar medidas proactivas para retener a los clientes. El enfoque se basa en técnicas analíticas avanzadas y tiene un claro impacto en la estrategia comercial del banco."
   ]
  },
  {
   "cell_type": "markdown",
   "metadata": {},
   "source": [
    "<a id=\"1-2\"></a>\n",
    "<h3 style=\"text-align:left;border-radius:8px;font-family:Times;font-variant:small-caps;color:#FFFFFF;background-color:#3300CC;\">Librerias</h3>\n"
   ]
  },
  {
   "cell_type": "code",
   "execution_count": 1,
   "metadata": {},
   "outputs": [],
   "source": [
    "# Comencemos importando nuestras librerias\n",
    "import pandas as pd\n",
    "import numpy as np\n",
    "import ast\n",
    "import matplotlib as mpl\n",
    "import matplotlib.pyplot as plt\n",
    "import seaborn as sns\n",
    "from sklearn.decomposition import PCA\n",
    "from datetime import datetime\n",
    "\n",
    "# Librerías para arboles de decision \n",
    "from sklearn.tree import DecisionTreeClassifier\n",
    "from sklearn import tree\n",
    "from sklearn.tree import DecisionTreeClassifier, plot_tree\n",
    "\n",
    "# Librería matriz de confusión\n",
    "from sklearn.metrics import confusion_matrix\n",
    "# Librería para curva de ROC\n",
    "from sklearn.metrics import roc_curve, auc\n",
    "# Librerias para regresión logística\n",
    "from sklearn.model_selection import train_test_split\n",
    "from sklearn.linear_model import LogisticRegression\n",
    "from sklearn.metrics import accuracy_score\n",
    "import statsmodels.formula.api as smf\n",
    "\n",
    "pd.options.display.float_format = '{:.2f}'.format\n",
    "import warnings\n",
    "warnings.filterwarnings(\"ignore\")\n",
    "sns.set_style('whitegrid') \n",
    "sns.set(font_scale = 1)"
   ]
  },
  {
   "cell_type": "markdown",
   "metadata": {},
   "source": [
    "<a id=\"1-3\"></a>\n",
    "<h3 style=\"text-align:left;border-radius:8px;font-family:Times;font-variant:small-caps;color:#FFFFFF;background-color:#3300CC;\">Importación Dataset</h3>\n"
   ]
  },
  {
   "cell_type": "code",
   "execution_count": 3,
   "metadata": {},
   "outputs": [
    {
     "data": {
      "text/html": [
       "<div>\n",
       "<style scoped>\n",
       "    .dataframe tbody tr th:only-of-type {\n",
       "        vertical-align: middle;\n",
       "    }\n",
       "\n",
       "    .dataframe tbody tr th {\n",
       "        vertical-align: top;\n",
       "    }\n",
       "\n",
       "    .dataframe thead th {\n",
       "        text-align: right;\n",
       "    }\n",
       "</style>\n",
       "<table border=\"1\" class=\"dataframe\">\n",
       "  <thead>\n",
       "    <tr style=\"text-align: right;\">\n",
       "      <th></th>\n",
       "      <th>CLIENTNUM</th>\n",
       "      <th>Attrition_Flag</th>\n",
       "      <th>Customer_Age</th>\n",
       "      <th>Gender</th>\n",
       "      <th>Dependent_count</th>\n",
       "      <th>Education_Level</th>\n",
       "      <th>Marital_Status</th>\n",
       "      <th>Income_Category</th>\n",
       "      <th>Card_Category</th>\n",
       "      <th>Months_on_book</th>\n",
       "      <th>...</th>\n",
       "      <th>Months_Inactive_12_mon</th>\n",
       "      <th>Contacts_Count_12_mon</th>\n",
       "      <th>Credit_Limit</th>\n",
       "      <th>Total_Revolving_Bal</th>\n",
       "      <th>Avg_Open_To_Buy</th>\n",
       "      <th>Total_Amt_Chng_Q4_Q1</th>\n",
       "      <th>Total_Trans_Amt</th>\n",
       "      <th>Total_Trans_Ct</th>\n",
       "      <th>Total_Ct_Chng_Q4_Q1</th>\n",
       "      <th>Avg_Utilization_Ratio</th>\n",
       "    </tr>\n",
       "  </thead>\n",
       "  <tbody>\n",
       "    <tr>\n",
       "      <th>0</th>\n",
       "      <td>768805383</td>\n",
       "      <td>Existing Customer</td>\n",
       "      <td>45</td>\n",
       "      <td>M</td>\n",
       "      <td>3</td>\n",
       "      <td>High School</td>\n",
       "      <td>Married</td>\n",
       "      <td>$60K - $80K</td>\n",
       "      <td>Blue</td>\n",
       "      <td>39</td>\n",
       "      <td>...</td>\n",
       "      <td>1</td>\n",
       "      <td>3</td>\n",
       "      <td>12691.00</td>\n",
       "      <td>777</td>\n",
       "      <td>11914.00</td>\n",
       "      <td>1.33</td>\n",
       "      <td>1144</td>\n",
       "      <td>42</td>\n",
       "      <td>1.62</td>\n",
       "      <td>0.06</td>\n",
       "    </tr>\n",
       "    <tr>\n",
       "      <th>1</th>\n",
       "      <td>818770008</td>\n",
       "      <td>Existing Customer</td>\n",
       "      <td>49</td>\n",
       "      <td>F</td>\n",
       "      <td>5</td>\n",
       "      <td>Graduate</td>\n",
       "      <td>Single</td>\n",
       "      <td>Less than $40K</td>\n",
       "      <td>Blue</td>\n",
       "      <td>44</td>\n",
       "      <td>...</td>\n",
       "      <td>1</td>\n",
       "      <td>2</td>\n",
       "      <td>8256.00</td>\n",
       "      <td>864</td>\n",
       "      <td>7392.00</td>\n",
       "      <td>1.54</td>\n",
       "      <td>1291</td>\n",
       "      <td>33</td>\n",
       "      <td>3.71</td>\n",
       "      <td>0.10</td>\n",
       "    </tr>\n",
       "    <tr>\n",
       "      <th>2</th>\n",
       "      <td>713982108</td>\n",
       "      <td>Existing Customer</td>\n",
       "      <td>51</td>\n",
       "      <td>M</td>\n",
       "      <td>3</td>\n",
       "      <td>Graduate</td>\n",
       "      <td>Married</td>\n",
       "      <td>$80K - $120K</td>\n",
       "      <td>Blue</td>\n",
       "      <td>36</td>\n",
       "      <td>...</td>\n",
       "      <td>1</td>\n",
       "      <td>0</td>\n",
       "      <td>3418.00</td>\n",
       "      <td>0</td>\n",
       "      <td>3418.00</td>\n",
       "      <td>2.59</td>\n",
       "      <td>1887</td>\n",
       "      <td>20</td>\n",
       "      <td>2.33</td>\n",
       "      <td>0.00</td>\n",
       "    </tr>\n",
       "    <tr>\n",
       "      <th>3</th>\n",
       "      <td>769911858</td>\n",
       "      <td>Existing Customer</td>\n",
       "      <td>40</td>\n",
       "      <td>F</td>\n",
       "      <td>4</td>\n",
       "      <td>High School</td>\n",
       "      <td>Unknown</td>\n",
       "      <td>Less than $40K</td>\n",
       "      <td>Blue</td>\n",
       "      <td>34</td>\n",
       "      <td>...</td>\n",
       "      <td>4</td>\n",
       "      <td>1</td>\n",
       "      <td>3313.00</td>\n",
       "      <td>2517</td>\n",
       "      <td>796.00</td>\n",
       "      <td>1.41</td>\n",
       "      <td>1171</td>\n",
       "      <td>20</td>\n",
       "      <td>2.33</td>\n",
       "      <td>0.76</td>\n",
       "    </tr>\n",
       "    <tr>\n",
       "      <th>4</th>\n",
       "      <td>709106358</td>\n",
       "      <td>Existing Customer</td>\n",
       "      <td>40</td>\n",
       "      <td>M</td>\n",
       "      <td>3</td>\n",
       "      <td>Uneducated</td>\n",
       "      <td>Married</td>\n",
       "      <td>$60K - $80K</td>\n",
       "      <td>Blue</td>\n",
       "      <td>21</td>\n",
       "      <td>...</td>\n",
       "      <td>1</td>\n",
       "      <td>0</td>\n",
       "      <td>4716.00</td>\n",
       "      <td>0</td>\n",
       "      <td>4716.00</td>\n",
       "      <td>2.17</td>\n",
       "      <td>816</td>\n",
       "      <td>28</td>\n",
       "      <td>2.50</td>\n",
       "      <td>0.00</td>\n",
       "    </tr>\n",
       "  </tbody>\n",
       "</table>\n",
       "<p>5 rows × 21 columns</p>\n",
       "</div>"
      ],
      "text/plain": [
       "   CLIENTNUM     Attrition_Flag  Customer_Age Gender  Dependent_count  \\\n",
       "0  768805383  Existing Customer            45      M                3   \n",
       "1  818770008  Existing Customer            49      F                5   \n",
       "2  713982108  Existing Customer            51      M                3   \n",
       "3  769911858  Existing Customer            40      F                4   \n",
       "4  709106358  Existing Customer            40      M                3   \n",
       "\n",
       "  Education_Level Marital_Status Income_Category Card_Category  \\\n",
       "0     High School        Married     $60K - $80K          Blue   \n",
       "1        Graduate         Single  Less than $40K          Blue   \n",
       "2        Graduate        Married    $80K - $120K          Blue   \n",
       "3     High School        Unknown  Less than $40K          Blue   \n",
       "4      Uneducated        Married     $60K - $80K          Blue   \n",
       "\n",
       "   Months_on_book  ...  Months_Inactive_12_mon  Contacts_Count_12_mon  \\\n",
       "0              39  ...                       1                      3   \n",
       "1              44  ...                       1                      2   \n",
       "2              36  ...                       1                      0   \n",
       "3              34  ...                       4                      1   \n",
       "4              21  ...                       1                      0   \n",
       "\n",
       "   Credit_Limit  Total_Revolving_Bal  Avg_Open_To_Buy  Total_Amt_Chng_Q4_Q1  \\\n",
       "0      12691.00                  777         11914.00                  1.33   \n",
       "1       8256.00                  864          7392.00                  1.54   \n",
       "2       3418.00                    0          3418.00                  2.59   \n",
       "3       3313.00                 2517           796.00                  1.41   \n",
       "4       4716.00                    0          4716.00                  2.17   \n",
       "\n",
       "   Total_Trans_Amt  Total_Trans_Ct  Total_Ct_Chng_Q4_Q1  Avg_Utilization_Ratio  \n",
       "0             1144              42                 1.62                   0.06  \n",
       "1             1291              33                 3.71                   0.10  \n",
       "2             1887              20                 2.33                   0.00  \n",
       "3             1171              20                 2.33                   0.76  \n",
       "4              816              28                 2.50                   0.00  \n",
       "\n",
       "[5 rows x 21 columns]"
      ]
     },
     "execution_count": 3,
     "metadata": {},
     "output_type": "execute_result"
    }
   ],
   "source": [
    "url = 'https://raw.githubusercontent.com/ApocalypseScrambler/datascience2/main/Credit%20Card%20customers/BankChurners.csv'\n",
    "\n",
    "# Levanto el archivo \n",
    "df = pd.read_csv(url,sep = ',')\n",
    "\n",
    "df = df.drop(['Naive_Bayes_Classifier_Attrition_Flag_Card_Category_Contacts_Count_12_mon_Dependent_count_Education_Level_Months_Inactive_12_mon_1', 'Naive_Bayes_Classifier_Attrition_Flag_Card_Category_Contacts_Count_12_mon_Dependent_count_Education_Level_Months_Inactive_12_mon_2'], axis = 1)\n",
    "\n",
    "# Vamos algunos de sus datos\n",
    "df.head()"
   ]
  },
  {
   "cell_type": "code",
   "execution_count": 4,
   "metadata": {},
   "outputs": [
    {
     "data": {
      "text/plain": [
       "(10127, 21)"
      ]
     },
     "execution_count": 4,
     "metadata": {},
     "output_type": "execute_result"
    }
   ],
   "source": [
    "# Veamos cantidad de registros y columnas\n",
    "df.shape"
   ]
  },
  {
   "cell_type": "code",
   "execution_count": 5,
   "metadata": {},
   "outputs": [
    {
     "name": "stdout",
     "output_type": "stream",
     "text": [
      "<class 'pandas.core.frame.DataFrame'>\n",
      "RangeIndex: 10127 entries, 0 to 10126\n",
      "Data columns (total 21 columns):\n",
      " #   Column                    Non-Null Count  Dtype  \n",
      "---  ------                    --------------  -----  \n",
      " 0   CLIENTNUM                 10127 non-null  int64  \n",
      " 1   Attrition_Flag            10127 non-null  object \n",
      " 2   Customer_Age              10127 non-null  int64  \n",
      " 3   Gender                    10127 non-null  object \n",
      " 4   Dependent_count           10127 non-null  int64  \n",
      " 5   Education_Level           10127 non-null  object \n",
      " 6   Marital_Status            10127 non-null  object \n",
      " 7   Income_Category           10127 non-null  object \n",
      " 8   Card_Category             10127 non-null  object \n",
      " 9   Months_on_book            10127 non-null  int64  \n",
      " 10  Total_Relationship_Count  10127 non-null  int64  \n",
      " 11  Months_Inactive_12_mon    10127 non-null  int64  \n",
      " 12  Contacts_Count_12_mon     10127 non-null  int64  \n",
      " 13  Credit_Limit              10127 non-null  float64\n",
      " 14  Total_Revolving_Bal       10127 non-null  int64  \n",
      " 15  Avg_Open_To_Buy           10127 non-null  float64\n",
      " 16  Total_Amt_Chng_Q4_Q1      10127 non-null  float64\n",
      " 17  Total_Trans_Amt           10127 non-null  int64  \n",
      " 18  Total_Trans_Ct            10127 non-null  int64  \n",
      " 19  Total_Ct_Chng_Q4_Q1       10127 non-null  float64\n",
      " 20  Avg_Utilization_Ratio     10127 non-null  float64\n",
      "dtypes: float64(5), int64(10), object(6)\n",
      "memory usage: 1.6+ MB\n"
     ]
    }
   ],
   "source": [
    "#Descripción de las columnas\n",
    "df.info()"
   ]
  },
  {
   "cell_type": "markdown",
   "metadata": {},
   "source": [
    "<a id=\"1-4\"></a>\n",
    "<h3 style=\"text-align:left;border-radius:8px;font-family:Times;font-variant:small-caps;color:#FFFFFF;background-color:#3300CC;\">Columnas</h3>\n"
   ]
  },
  {
   "cell_type": "markdown",
   "metadata": {},
   "source": [
    "* <b><u>CLIENTNUM:</u></b> Número de cliente. Identificador único del cliente titular de la cuenta.\n",
    "* <b><u>Attrition_Flag:</u></b> variable de evento interno (actividad del cliente): si la cuenta está cerrada, entonces 1, si no, 0.\n",
    "* <b><u>Customer_Age:</u></b> Variable demográfica - Edad del cliente en años\n",
    "* <b><u>Gender:</u></b> Variable demográfica - M=Hombre, F=Mujer\n",
    "* <b><u>Dependent_count:</u></b> Variable demográfica - Número de dependientes\n",
    "* <b><u>Education_Level:</u></b> Variable demográfica - Calificación educativa del titular de la cuenta (ejemplo: escuela secundaria, graduado universitario, etc.)\n",
    "* <b><u>Marital_Status:</u></b> variable demográfica: casado, soltero, divorciado, desconocido\n",
    "* <b><u>Income_Category:</u></b> Variable demográfica - Categoría de ingreso anual del titular de la cuenta (< 40K, 40K - 60K, 60K - 80K, 80K-120K, >)           \n",
    "* <b><u>Card_Category:</u></b> Variable de producto - Tipo de tarjeta (Blue, Silver, Gold, Platinum)             \n",
    "* <b><u>Months_on_book:</u></b> Periodo de relación con el banco\n",
    "* <b><u>Total_Relationship_Count:</u></b> Número total. de productos en poder del cliente\n",
    "* <b><u>Months_Inactive_12_mon:</u></b> No. de meses inactivos en los últimos 12 meses\n",
    "* <b><u>Contacts_Count_12_mon:</u></b> No. de contactos en los últimos 12 meses\n",
    "* <b><u>Credit_Limit:</u></b> Límite de crédito en la tarjeta de crédito\n",
    "* <b><u>Total_Revolving_Bal:</u></b> Saldo rotativo total de la tarjeta de crédito\n",
    "* <b><u>Avg_Open_To_Buy:</u></b> Línea de crédito abierta para comprar (promedio de los últimos 12 meses)\n",
    "* <b><u>Total_Amt_Chng_Q4_Q1:</u></b> Cambio en el monto de la transacción (Q4 sobre Q1)\n",
    "* <b><u>Total_Trans_Amt:</u></b> Monto total de la transacción (últimos 12 meses)\n",
    "* <b><u>Total_Trans_Ct:</u></b> Recuento total de transacciones (últimos 12 meses)\n",
    "* <b><u>Total_Ct_Chng_Q4_Q1:</u></b> Cambio en el recuento de transacciones (Q4 sobre Q1)\n",
    "* <b><u>Avg_Utilization_Ratio:</u></b> Índice de utilización promedio de la tarjeta"
   ]
  },
  {
   "cell_type": "markdown",
   "metadata": {},
   "source": [
    "<a id=\"2\"></a>\n",
    "<h1 style=\"text-align:left;border-radius:8px;font-family:Times;font-variant:small-caps;color:#FFFFFF;background-color:#3300CC;\">Exploratory Data Analysis (EDA)</h1>"
   ]
  },
  {
   "cell_type": "markdown",
   "metadata": {},
   "source": [
    "<a id=\"2-1\"></a>\n",
    "<h3 style=\"text-align:left;border-radius:8px;font-family:Times;font-variant:small-caps;color:#FFFFFF;background-color:#3300CC;\">Missing Data</h3>"
   ]
  },
  {
   "cell_type": "code",
   "execution_count": 6,
   "metadata": {},
   "outputs": [
    {
     "name": "stdout",
     "output_type": "stream",
     "text": [
      "Nulls\n",
      "----------------------------\n",
      "CLIENTNUM                   0\n",
      "Attrition_Flag              0\n",
      "Customer_Age                0\n",
      "Gender                      0\n",
      "Dependent_count             0\n",
      "Education_Level             0\n",
      "Marital_Status              0\n",
      "Income_Category             0\n",
      "Card_Category               0\n",
      "Months_on_book              0\n",
      "Total_Relationship_Count    0\n",
      "Months_Inactive_12_mon      0\n",
      "Contacts_Count_12_mon       0\n",
      "Credit_Limit                0\n",
      "Total_Revolving_Bal         0\n",
      "Avg_Open_To_Buy             0\n",
      "Total_Amt_Chng_Q4_Q1        0\n",
      "Total_Trans_Amt             0\n",
      "Total_Trans_Ct              0\n",
      "Total_Ct_Chng_Q4_Q1         0\n",
      "Avg_Utilization_Ratio       0\n",
      "dtype: int64\n"
     ]
    }
   ],
   "source": [
    "#Veamos que campos tenemos con null\n",
    "print('Nulls')\n",
    "print('----------------------------')\n",
    "print(df.isnull().sum())"
   ]
  },
  {
   "cell_type": "markdown",
   "metadata": {},
   "source": [
    "*Como se puede observar, el conjunto de datos no presenta ningún valor nulo en sus registros.*"
   ]
  },
  {
   "cell_type": "code",
   "execution_count": 7,
   "metadata": {},
   "outputs": [
    {
     "name": "stdout",
     "output_type": "stream",
     "text": [
      "         CLIENTNUM  Customer_Age  Dependent_count  Months_on_book  \\\n",
      "count     10127.00      10127.00         10127.00        10127.00   \n",
      "mean  739177606.33         46.33             2.35           35.93   \n",
      "std    36903783.45          8.02             1.30            7.99   \n",
      "min   708082083.00         26.00             0.00           13.00   \n",
      "25%   713036770.50         41.00             1.00           31.00   \n",
      "50%   717926358.00         46.00             2.00           36.00   \n",
      "75%   773143533.00         52.00             3.00           40.00   \n",
      "max   828343083.00         73.00             5.00           56.00   \n",
      "\n",
      "       Total_Relationship_Count  Months_Inactive_12_mon  \\\n",
      "count                  10127.00                10127.00   \n",
      "mean                       3.81                    2.34   \n",
      "std                        1.55                    1.01   \n",
      "min                        1.00                    0.00   \n",
      "25%                        3.00                    2.00   \n",
      "50%                        4.00                    2.00   \n",
      "75%                        5.00                    3.00   \n",
      "max                        6.00                    6.00   \n",
      "\n",
      "       Contacts_Count_12_mon  Credit_Limit  Total_Revolving_Bal  \\\n",
      "count               10127.00      10127.00             10127.00   \n",
      "mean                    2.46       8631.95              1162.81   \n",
      "std                     1.11       9088.78               814.99   \n",
      "min                     0.00       1438.30                 0.00   \n",
      "25%                     2.00       2555.00               359.00   \n",
      "50%                     2.00       4549.00              1276.00   \n",
      "75%                     3.00      11067.50              1784.00   \n",
      "max                     6.00      34516.00              2517.00   \n",
      "\n",
      "       Avg_Open_To_Buy  Total_Amt_Chng_Q4_Q1  Total_Trans_Amt  Total_Trans_Ct  \\\n",
      "count         10127.00              10127.00         10127.00        10127.00   \n",
      "mean           7469.14                  0.76          4404.09           64.86   \n",
      "std            9090.69                  0.22          3397.13           23.47   \n",
      "min               3.00                  0.00           510.00           10.00   \n",
      "25%            1324.50                  0.63          2155.50           45.00   \n",
      "50%            3474.00                  0.74          3899.00           67.00   \n",
      "75%            9859.00                  0.86          4741.00           81.00   \n",
      "max           34516.00                  3.40         18484.00          139.00   \n",
      "\n",
      "       Total_Ct_Chng_Q4_Q1  Avg_Utilization_Ratio  \n",
      "count             10127.00               10127.00  \n",
      "mean                  0.71                   0.27  \n",
      "std                   0.24                   0.28  \n",
      "min                   0.00                   0.00  \n",
      "25%                   0.58                   0.02  \n",
      "50%                   0.70                   0.18  \n",
      "75%                   0.82                   0.50  \n",
      "max                   3.71                   1.00  \n"
     ]
    }
   ],
   "source": [
    "#Examinemos algunos datos generales de los campos numéricos.\n",
    "print(df.describe())"
   ]
  },
  {
   "cell_type": "markdown",
   "metadata": {},
   "source": [
    "*El conjunto de datos no presenta valores nulos, y los datos con valores de cero son pertinentes e informativos, por lo que no es necesario realizar correcciones en estos datos. Además, la edad de los clientes se encuentra dentro de un rango válido.*"
   ]
  },
  {
   "cell_type": "markdown",
   "metadata": {},
   "source": [
    "<a id=\"2-2\"></a>\n",
    "<h3 style=\"text-align:left;border-radius:8px;font-family:Times;font-variant:small-caps;color:#FFFFFF;background-color:#3300CC;\">Análisis de Variables</h3>"
   ]
  },
  {
   "cell_type": "code",
   "execution_count": 10,
   "metadata": {},
   "outputs": [
    {
     "data": {
      "image/png": "[encoded data removed]",
      "text/plain": [
       "<Figure size 640x480 with 1 Axes>"
      ]
     },
     "metadata": {},
     "output_type": "display_data"
    }
   ],
   "source": [
    "# Veamos la distribución de la variable Attrition_Flag que será nuestra variable target\n",
    "cantidad = len(df['Attrition_Flag'])\n",
    "\n",
    "sns.countplot(data = df,\n",
    "              x = \"Attrition_Flag\")\n",
    "plt.xlabel('Permanencia del cliente')\n",
    "plt.ylabel('Cantidad de clientes')\n",
    "plt.title('Distribución de la variable Attrition_Flag')\n",
    "ax = plt.gca()\n",
    "for p in ax.patches:\n",
    "    x_text = p.get_x() + p.get_width() / 2.0  # Calcula la posición x del texto\n",
    "    y_text = p.get_height()  # Toma la altura de la columna\n",
    "    ax.text(x_text, y_text, f'{str(round(int(y_text)/cantidad,2) * 100)}%', # Indica posición x e y, y texto a mostrar \n",
    "            ha = 'center', # Alineación horizontal \n",
    "            va = 'bottom',  # Alineación vertical\n",
    "            fontsize = 10, color = 'black', fontweight = 'bold')\n",
    "plt.show()"
   ]
  }
 ],
 "metadata": {
  "kernelspec": {
   "display_name": "Python 3",
   "language": "python",
   "name": "python3"
  },
  "language_info": {
   "codemirror_mode": {
    "name": "ipython",
    "version": 3
   },
   "file_extension": ".py",
   "mimetype": "text/x-python",
   "name": "python",
   "nbconvert_exporter": "python",
   "pygments_lexer": "ipython3",
   "version": "3.11.4"
  }
 },
 "nbformat": 4,
 "nbformat_minor": 2
}
